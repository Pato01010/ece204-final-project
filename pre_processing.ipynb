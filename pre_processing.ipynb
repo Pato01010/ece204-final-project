{
 "cells": [
  {
   "cell_type": "markdown",
   "metadata": {},
   "source": [
    "## Data Importation"
   ]
  },
  {
   "cell_type": "code",
   "execution_count": 2,
   "metadata": {},
   "outputs": [
    {
     "name": "stdout",
     "output_type": "stream",
     "text": [
      "<class 'pandas.core.frame.DataFrame'>\n",
      "RangeIndex: 6607 entries, 0 to 6606\n",
      "Data columns (total 20 columns):\n",
      " #   Column                      Non-Null Count  Dtype \n",
      "---  ------                      --------------  ----- \n",
      " 0   Hours_Studied               6607 non-null   int64 \n",
      " 1   Attendance                  6607 non-null   int64 \n",
      " 2   Parental_Involvement        6607 non-null   object\n",
      " 3   Access_to_Resources         6607 non-null   object\n",
      " 4   Extracurricular_Activities  6607 non-null   object\n",
      " 5   Sleep_Hours                 6607 non-null   int64 \n",
      " 6   Previous_Scores             6607 non-null   int64 \n",
      " 7   Motivation_Level            6607 non-null   object\n",
      " 8   Internet_Access             6607 non-null   object\n",
      " 9   Tutoring_Sessions           6607 non-null   int64 \n",
      " 10  Family_Income               6607 non-null   object\n",
      " 11  Teacher_Quality             6529 non-null   object\n",
      " 12  School_Type                 6607 non-null   object\n",
      " 13  Peer_Influence              6607 non-null   object\n",
      " 14  Physical_Activity           6607 non-null   int64 \n",
      " 15  Learning_Disabilities       6607 non-null   object\n",
      " 16  Parental_Education_Level    6517 non-null   object\n",
      " 17  Distance_from_Home          6540 non-null   object\n",
      " 18  Gender                      6607 non-null   object\n",
      " 19  Exam_Score                  6607 non-null   int64 \n",
      "dtypes: int64(7), object(13)\n",
      "memory usage: 1.0+ MB\n"
     ]
    }
   ],
   "source": [
    "import pandas as pd\n",
    "import matplotlib.pyplot as plt\n",
    "\n",
    "# Load in the dataset\n",
    "df = pd.read_csv(\"original_dataset.csv\")\n",
    "\n",
    "# Display basic information about the dataset\n",
    "df.info()\n"
   ]
  },
  {
   "cell_type": "markdown",
   "metadata": {},
   "source": [
    "The original dataset was loading into a Pandas Dataframe. Based off of the `.info()`, the dataset contains 6,607 records and 20 columns and the data types were identified, a mix of numerical and categorical values.\n",
    "\n",
    "**Numerical Values**\n",
    "* `Hours_Studied`\n",
    "* `Attendance`\n",
    "* `Sleep_Hours`\n",
    "* `Previous_Scores`\n",
    "* `Tutoring_Sessions`\n",
    "* `Physical_Activity`\n",
    "* `Exam_Score`\n",
    "\n",
    "**Categorical Values**\n",
    "* `Parental_Involvement`\n",
    "* `Access_to_Resources`\n",
    "* `Extracurricular_Activities`\n",
    "* `Motivation_Level`\n",
    "* `Internet_Access`\n",
    "* `Family_Income`\n",
    "* `Teacher_Quality`\n",
    "* `School_Type`\n",
    "* `Peer_Influence`\n",
    "* `Learning_Disabilities`\n",
    "* `Parental_Education_Level`\n",
    "* `Distance_from_Home`\n",
    "* `Gender`"
   ]
  },
  {
   "cell_type": "markdown",
   "metadata": {},
   "source": [
    "## Initial Exploration"
   ]
  },
  {
   "cell_type": "markdown",
   "metadata": {},
   "source": [
    "We first looked at the dataset using `.describe()` to generate a statistical summary of the numerical columns. A histogram and box plot were used to look at the exam score distributions and see if there any outliers. "
   ]
  },
  {
   "cell_type": "code",
   "execution_count": 3,
   "metadata": {},
   "outputs": [
    {
     "data": {
      "text/html": [
       "<div>\n",
       "<style scoped>\n",
       "    .dataframe tbody tr th:only-of-type {\n",
       "        vertical-align: middle;\n",
       "    }\n",
       "\n",
       "    .dataframe tbody tr th {\n",
       "        vertical-align: top;\n",
       "    }\n",
       "\n",
       "    .dataframe thead th {\n",
       "        text-align: right;\n",
       "    }\n",
       "</style>\n",
       "<table border=\"1\" class=\"dataframe\">\n",
       "  <thead>\n",
       "    <tr style=\"text-align: right;\">\n",
       "      <th></th>\n",
       "      <th>Hours_Studied</th>\n",
       "      <th>Attendance</th>\n",
       "      <th>Sleep_Hours</th>\n",
       "      <th>Previous_Scores</th>\n",
       "      <th>Tutoring_Sessions</th>\n",
       "      <th>Physical_Activity</th>\n",
       "      <th>Exam_Score</th>\n",
       "    </tr>\n",
       "  </thead>\n",
       "  <tbody>\n",
       "    <tr>\n",
       "      <th>count</th>\n",
       "      <td>6607.000000</td>\n",
       "      <td>6607.000000</td>\n",
       "      <td>6607.00000</td>\n",
       "      <td>6607.000000</td>\n",
       "      <td>6607.000000</td>\n",
       "      <td>6607.000000</td>\n",
       "      <td>6607.000000</td>\n",
       "    </tr>\n",
       "    <tr>\n",
       "      <th>mean</th>\n",
       "      <td>19.975329</td>\n",
       "      <td>79.977448</td>\n",
       "      <td>7.02906</td>\n",
       "      <td>75.070531</td>\n",
       "      <td>1.493719</td>\n",
       "      <td>2.967610</td>\n",
       "      <td>67.235659</td>\n",
       "    </tr>\n",
       "    <tr>\n",
       "      <th>std</th>\n",
       "      <td>5.990594</td>\n",
       "      <td>11.547475</td>\n",
       "      <td>1.46812</td>\n",
       "      <td>14.399784</td>\n",
       "      <td>1.230570</td>\n",
       "      <td>1.031231</td>\n",
       "      <td>3.890456</td>\n",
       "    </tr>\n",
       "    <tr>\n",
       "      <th>min</th>\n",
       "      <td>1.000000</td>\n",
       "      <td>60.000000</td>\n",
       "      <td>4.00000</td>\n",
       "      <td>50.000000</td>\n",
       "      <td>0.000000</td>\n",
       "      <td>0.000000</td>\n",
       "      <td>55.000000</td>\n",
       "    </tr>\n",
       "    <tr>\n",
       "      <th>25%</th>\n",
       "      <td>16.000000</td>\n",
       "      <td>70.000000</td>\n",
       "      <td>6.00000</td>\n",
       "      <td>63.000000</td>\n",
       "      <td>1.000000</td>\n",
       "      <td>2.000000</td>\n",
       "      <td>65.000000</td>\n",
       "    </tr>\n",
       "    <tr>\n",
       "      <th>50%</th>\n",
       "      <td>20.000000</td>\n",
       "      <td>80.000000</td>\n",
       "      <td>7.00000</td>\n",
       "      <td>75.000000</td>\n",
       "      <td>1.000000</td>\n",
       "      <td>3.000000</td>\n",
       "      <td>67.000000</td>\n",
       "    </tr>\n",
       "    <tr>\n",
       "      <th>75%</th>\n",
       "      <td>24.000000</td>\n",
       "      <td>90.000000</td>\n",
       "      <td>8.00000</td>\n",
       "      <td>88.000000</td>\n",
       "      <td>2.000000</td>\n",
       "      <td>4.000000</td>\n",
       "      <td>69.000000</td>\n",
       "    </tr>\n",
       "    <tr>\n",
       "      <th>max</th>\n",
       "      <td>44.000000</td>\n",
       "      <td>100.000000</td>\n",
       "      <td>10.00000</td>\n",
       "      <td>100.000000</td>\n",
       "      <td>8.000000</td>\n",
       "      <td>6.000000</td>\n",
       "      <td>101.000000</td>\n",
       "    </tr>\n",
       "  </tbody>\n",
       "</table>\n",
       "</div>"
      ],
      "text/plain": [
       "       Hours_Studied   Attendance  Sleep_Hours  Previous_Scores  \\\n",
       "count    6607.000000  6607.000000   6607.00000      6607.000000   \n",
       "mean       19.975329    79.977448      7.02906        75.070531   \n",
       "std         5.990594    11.547475      1.46812        14.399784   \n",
       "min         1.000000    60.000000      4.00000        50.000000   \n",
       "25%        16.000000    70.000000      6.00000        63.000000   \n",
       "50%        20.000000    80.000000      7.00000        75.000000   \n",
       "75%        24.000000    90.000000      8.00000        88.000000   \n",
       "max        44.000000   100.000000     10.00000       100.000000   \n",
       "\n",
       "       Tutoring_Sessions  Physical_Activity   Exam_Score  \n",
       "count        6607.000000        6607.000000  6607.000000  \n",
       "mean            1.493719           2.967610    67.235659  \n",
       "std             1.230570           1.031231     3.890456  \n",
       "min             0.000000           0.000000    55.000000  \n",
       "25%             1.000000           2.000000    65.000000  \n",
       "50%             1.000000           3.000000    67.000000  \n",
       "75%             2.000000           4.000000    69.000000  \n",
       "max             8.000000           6.000000   101.000000  "
      ]
     },
     "execution_count": 3,
     "metadata": {},
     "output_type": "execute_result"
    }
   ],
   "source": [
    "# Create summary statistics for numerical columns\n",
    "df.describe()"
   ]
  },
  {
   "cell_type": "code",
   "execution_count": 4,
   "metadata": {},
   "outputs": [
    {
     "data": {
      "image/png": "[encoded data removed]",
      "text/plain": [
       "<Figure size 800x600 with 1 Axes>"
      ]
     },
     "metadata": {},
     "output_type": "display_data"
    }
   ],
   "source": [
    "# Plot 1: Histogram of Exam Score\n",
    "plt.figure(figsize=(8, 6))\n",
    "plt.hist(df['Exam_Score'], bins=30, edgecolor='black')\n",
    "plt.title('Distribution of Exam Scores')\n",
    "plt.xlabel('Exam Score')\n",
    "plt.ylabel('Frequency')\n",
    "plt.show()"
   ]
  },
  {
   "cell_type": "markdown",
   "metadata": {},
   "source": [
    "### Plot 1 Insights\n",
    "* The bell-shaped curve suggests that most of the students are performing within a similar range, 60-75 with some outliers.\n",
    "* The peak of the plot is around 67 which aligns with the mean from the statistical summary above for the `Exam_Score`.\n",
    "* There are a few outliers slightly above 100. "
   ]
  },
  {
   "cell_type": "code",
   "execution_count": 5,
   "metadata": {},
   "outputs": [
    {
     "name": "stderr",
     "output_type": "stream",
     "text": [
      "/var/folders/t0/hzg53ff9319g3z7q6s1nj6fc0000gn/T/ipykernel_86141/226475429.py:6: MatplotlibDeprecationWarning: The 'labels' parameter of boxplot() has been renamed 'tick_labels' since Matplotlib 3.9; support for the old name will be dropped in 3.11.\n",
      "  plt.boxplot(data_to_plot, labels=categories)\n"
     ]
    },
    {
     "data": {
      "image/png": "[encoded data removed]",
      "text/plain": [
       "<Figure size 800x600 with 1 Axes>"
      ]
     },
     "metadata": {},
     "output_type": "display_data"
    }
   ],
   "source": [
    "# Plot 2: Box Plot of Exam Score by Parental Involvement\n",
    "plt.figure(figsize=(8,6))\n",
    "categories = df['Parental_Involvement'].dropna().unique()\n",
    "data_to_plot = [df[df['Parental_Involvement'] == cat]['Exam_Score'] for cat in categories]\n",
    "\n",
    "plt.boxplot(data_to_plot, labels=categories)\n",
    "plt.title('Exam Score by Parental Involvement')\n",
    "plt.xlabel('Parental Involvement')\n",
    "plt.ylabel('Exam Score')\n",
    "plt.grid()\n",
    "plt.show()"
   ]
  },
  {
   "cell_type": "markdown",
   "metadata": {},
   "source": [
    "### Plot 2 Insights\n",
    "* Students with **High** parental involvement tend to score better with the highest median exam scores, then **Medium**, and lastly **Low**, which suggests that there is a positive relationship between parental involvement and exam scores.\n",
    "* Each group contains several outliers towards the higher end of exam scores. This shows that there are students who are performing well regardless of how involved their parents are or possible just some inconsistencies in reporting and grading. "
   ]
  },
  {
   "cell_type": "markdown",
   "metadata": {},
   "source": [
    "## Cleaning Dataset"
   ]
  },
  {
   "cell_type": "markdown",
   "metadata": {},
   "source": [
    "### Missing Data:\n",
    "There were three columns that had missing values:\n",
    "* Teacher_Quality - 78\n",
    "* Parental_Education_Level - 90\n",
    "* Distance_from_Home - 67\n",
    "\n",
    "For these missing values, we used **mode** because the mode represents the most common and likely value.\n",
    "\n",
    "### Outliers:\n",
    "We saw from two plots that there were some exam scores that were above 100. To avoid these outliers, we chose to cap the scores at 100 so that we could still maintain our full dataset. "
   ]
  },
  {
   "cell_type": "code",
   "execution_count": 6,
   "metadata": {},
   "outputs": [
    {
     "name": "stdout",
     "output_type": "stream",
     "text": [
      "Missing Values per Column:\n",
      " Hours_Studied                  0\n",
      "Attendance                     0\n",
      "Parental_Involvement           0\n",
      "Access_to_Resources            0\n",
      "Extracurricular_Activities     0\n",
      "Sleep_Hours                    0\n",
      "Previous_Scores                0\n",
      "Motivation_Level               0\n",
      "Internet_Access                0\n",
      "Tutoring_Sessions              0\n",
      "Family_Income                  0\n",
      "Teacher_Quality               78\n",
      "School_Type                    0\n",
      "Peer_Influence                 0\n",
      "Physical_Activity              0\n",
      "Learning_Disabilities          0\n",
      "Parental_Education_Level      90\n",
      "Distance_from_Home            67\n",
      "Gender                         0\n",
      "Exam_Score                     0\n",
      "dtype: int64\n"
     ]
    }
   ],
   "source": [
    "# Check for any missing values\n",
    "missing_values = df.isnull().sum()\n",
    "\n",
    "print(f\"Missing Values per Column:\\n\", missing_values)"
   ]
  },
  {
   "cell_type": "code",
   "execution_count": 7,
   "metadata": {},
   "outputs": [],
   "source": [
    "# Represent any missing cateogrical values with the mode\n",
    "df['Teacher_Quality'].fillna(df['Teacher_Quality'].mode()[0])\n",
    "df['Parental_Education_Level'].fillna(df['Parental_Education_Level'].mode()[0])\n",
    "df['Distance_from_Home'].fillna(df['Distance_from_Home'].mode()[0])\n",
    "\n",
    "# Cap Exam_Score at 100 in case any value exceeds it\n",
    "df['Exam_Score'] = df['Exam_Score'].apply(lambda x: min(x, 100))\n",
    "\n",
    "# Save Cleaned Dataset\n",
    "file_path = \"cleaned_dataset.csv\"\n",
    "df.to_csv(file_path, index=False)"
   ]
  }
 ],
 "metadata": {
  "kernelspec": {
   "display_name": "Python 3",
   "language": "python",
   "name": "python3"
  },
  "language_info": {
   "codemirror_mode": {
    "name": "ipython",
    "version": 3
   },
   "file_extension": ".py",
   "mimetype": "text/x-python",
   "name": "python",
   "nbconvert_exporter": "python",
   "pygments_lexer": "ipython3",
   "version": "3.13.1"
  }
 },
 "nbformat": 4,
 "nbformat_minor": 2
}
