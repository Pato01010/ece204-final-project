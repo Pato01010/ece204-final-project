{
 "cells": [
  {
   "cell_type": "markdown",
   "metadata": {},
   "source": [
    "## Data Importation"
   ]
  },
  {
   "cell_type": "code",
   "execution_count": null,
   "metadata": {},
   "outputs": [],
   "source": [
    "import pandas as pd\n",
    "import matplotlib.pyplot as plt\n",
    "\n",
    "# Load in the dataset\n",
    "df = pd.read_csv(\"original_dataset.csv\")\n",
    "\n",
    "# Display basic information about the dataset\n",
    "df.info()\n"
   ]
  },
  {
   "cell_type": "markdown",
   "metadata": {},
   "source": [
    "The original dataset was loading into a Pandas Dataframe. Based off of the `.info()`, the dataset contains 6,607 records and 20 columns and the data types were identified, a mix of numerical and categorical values.\n",
    "\n",
    "**Numerical Values**\n",
    "* `Hours_Studied`\n",
    "* `Attendance`\n",
    "* `Sleep_Hours`\n",
    "* `Previous_Scores`\n",
    "* `Tutoring_Sessions`\n",
    "* `Physical_Activity`\n",
    "* `Exam_Score`\n",
    "\n",
    "**Categorical Values**\n",
    "* `Parental_Involvement`\n",
    "* `Access_to_Resources`\n",
    "* `Extracurricular_Activities`\n",
    "* `Motivation_Level`\n",
    "* `Internet_Access`\n",
    "* `Family_Income`\n",
    "* `Teacher_Quality`\n",
    "* `School_Type`\n",
    "* `Peer_Influence`\n",
    "* `Learning_Disabilities`\n",
    "* `Parental_Education_Level`\n",
    "* `Distance_from_Home`\n",
    "* `Gender`"
   ]
  },
  {
   "cell_type": "markdown",
   "metadata": {},
   "source": [
    "## Initial Exploration"
   ]
  },
  {
   "cell_type": "markdown",
   "metadata": {},
   "source": [
    "We first looked at the dataset using `.describe()` to generate a statistical summary of the numerical columns. A histogram and box plot were used to look at the exam score distributions and see if there any outliers. "
   ]
  },
  {
   "cell_type": "code",
   "execution_count": null,
   "metadata": {},
   "outputs": [],
   "source": [
    "# Create summary statistics for numerical columns\n",
    "df.describe()"
   ]
  },
  {
   "cell_type": "code",
   "execution_count": null,
   "metadata": {},
   "outputs": [],
   "source": [
    "# Plot 1: Histogram of Exam Score\n",
    "plt.figure(figsize=(8, 6))\n",
    "plt.hist(df['Exam_Score'], bins=30, edgecolor='black')\n",
    "plt.title('Distribution of Exam Scores')\n",
    "plt.xlabel('Exam Score')\n",
    "plt.ylabel('Frequency')\n",
    "plt.show()"
   ]
  },
  {
   "cell_type": "markdown",
   "metadata": {},
   "source": [
    "### Plot 1 Insights\n",
    "* The bell-shaped curve suggests that most of the students are performing within a similar range, 60-75 with some outliers.\n",
    "* The peak of the plot is around 67 which aligns with the mean from the statistical summary above for the `Exam_Score`.\n",
    "* There are a few outliers slightly above 100. "
   ]
  },
  {
   "cell_type": "code",
   "execution_count": null,
   "metadata": {},
   "outputs": [],
   "source": [
    "# Plot 2: Box Plot of Exam Score by Parental Involvement\n",
    "plt.figure(figsize=(8,6))\n",
    "categories = df['Parental_Involvement'].dropna().unique()\n",
    "data_to_plot = [df[df['Parental_Involvement'] == cat]['Exam_Score'] for cat in categories]\n",
    "\n",
    "plt.boxplot(data_to_plot, labels=categories)\n",
    "plt.title('Exam Score by Parental Involvement')\n",
    "plt.xlabel('Parental Involvement')\n",
    "plt.ylabel('Exam Score')\n",
    "plt.grid()\n",
    "plt.show()"
   ]
  },
  {
   "cell_type": "markdown",
   "metadata": {},
   "source": [
    "### Plot 2 Insights\n",
    "* Students with **High** parental involvement tend to score better with the highest median exam scores, then **Medium**, and lastly **Low**, which suggests that there is a positive relationship between parental involvement and exam scores.\n",
    "* Each group contains several outliers towards the higher end of exam scores. This shows that there are students who are performing well regardless of how involved their parents are or possible just some inconsistencies in reporting and grading. "
   ]
  },
  {
   "cell_type": "markdown",
   "metadata": {},
   "source": [
    "## Cleaning Dataset"
   ]
  },
  {
   "cell_type": "markdown",
   "metadata": {},
   "source": [
    "### Missing Data:\n",
    "There were three columns that had missing values:\n",
    "* Teacher_Quality - 78\n",
    "* Parental_Education_Level - 90\n",
    "* Distance_from_Home - 67\n",
    "\n",
    "For these missing values, we used **mode** because the mode represents the most common and likely value.\n",
    "\n",
    "### Outliers:\n",
    "We saw from two plots that there were some exam scores that were above 100. To avoid these outliers, we chose to cap the scores at 100 so that we could still maintain our full dataset. "
   ]
  },
  {
   "cell_type": "code",
   "execution_count": null,
   "metadata": {},
   "outputs": [],
   "source": [
    "# Check for any missing values\n",
    "missing_values = df.isnull().sum()\n",
    "\n",
    "print(f\"Missing Values per Column:\\n\", missing_values)"
   ]
  },
  {
   "cell_type": "code",
   "execution_count": 7,
   "metadata": {},
   "outputs": [],
   "source": [
    "# Represent any missing cateogrical values with the mode\n",
    "df['Teacher_Quality'].fillna(df['Teacher_Quality'].mode()[0])\n",
    "df['Parental_Education_Level'].fillna(df['Parental_Education_Level'].mode()[0])\n",
    "df['Distance_from_Home'].fillna(df['Distance_from_Home'].mode()[0])\n",
    "\n",
    "# Cap Exam_Score at 100 in case any value exceeds it\n",
    "df['Exam_Score'] = df['Exam_Score'].apply(lambda x: min(x, 100))\n",
    "\n",
    "# Save Cleaned Dataset\n",
    "file_path = \"cleaned_dataset.csv\"\n",
    "df.to_csv(file_path, index=False)"
   ]
  }
 ],
 "metadata": {
  "kernelspec": {
   "display_name": "base",
   "language": "python",
   "name": "python3"
  },
  "language_info": {
   "codemirror_mode": {
    "name": "ipython",
    "version": 3
   },
   "file_extension": ".py",
   "mimetype": "text/x-python",
   "name": "python",
   "nbconvert_exporter": "python",
   "pygments_lexer": "ipython3",
   "version": "3.12.7"
  }
 },
 "nbformat": 4,
 "nbformat_minor": 2
}
