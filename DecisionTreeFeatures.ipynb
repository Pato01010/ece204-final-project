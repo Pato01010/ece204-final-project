{
 "cells": [
  {
   "cell_type": "code",
   "execution_count": 2,
   "id": "17ede69b",
   "metadata": {},
   "outputs": [],
   "source": [
    "#imports\n",
    "\n",
    "from sklearn.model_selection import train_test_split\n",
    "from sklearn.tree import DecisionTreeRegressor\n",
    "import pandas as pd"
   ]
  },
  {
   "cell_type": "code",
   "execution_count": 3,
   "id": "2bb19ff0",
   "metadata": {},
   "outputs": [
    {
     "name": "stdout",
     "output_type": "stream",
     "text": [
      "Attendance                               0.372881\n",
      "Hours_Studied                            0.248265\n",
      "Previous_Scores                          0.085987\n",
      "Physical_Activity                        0.035425\n",
      "Tutoring_Sessions                        0.035110\n",
      "Parental_Involvement_Low                 0.025079\n",
      "Family_Income_Low                        0.020175\n",
      "Access_to_Resources_Low                  0.018787\n",
      "Peer_Influence_Positive                  0.016562\n",
      "Sleep_Hours                              0.014526\n",
      "Family_Income_Medium                     0.013885\n",
      "Access_to_Resources_Medium               0.013435\n",
      "Motivation_Level_Medium                  0.012613\n",
      "Peer_Influence_Neutral                   0.011910\n",
      "Extracurricular_Activities_Yes           0.009726\n",
      "Parental_Education_Level_Postgraduate    0.009300\n",
      "Motivation_Level_Low                     0.009099\n",
      "Teacher_Quality_Medium                   0.007494\n",
      "Learning_Disabilities_Yes                0.007236\n",
      "Parental_Education_Level_High School     0.005541\n",
      "Gender_Male                              0.005399\n",
      "Parental_Involvement_Medium              0.005305\n",
      "Distance_from_Home_Near                  0.004381\n",
      "Teacher_Quality_Low                      0.003377\n",
      "School_Type_Public                       0.003339\n",
      "Distance_from_Home_Moderate              0.003166\n",
      "Internet_Access_Yes                      0.001997\n",
      "dtype: float64\n"
     ]
    }
   ],
   "source": [
    "# 1. Load data\n",
    "df = pd.read_csv(\"original_dataset.csv\")\n",
    "X = df.drop(columns=\"Exam_Score\")\n",
    "y = df[\"Exam_Score\"]\n",
    "\n",
    "# 2. Drop all categorical variables\n",
    "X = pd.get_dummies(X, drop_first=True)\n",
    "\n",
    "# 3. Split\n",
    "X_train, X_test, y_train, y_test = train_test_split(\n",
    "    X, y, test_size=0.2, random_state=42\n",
    ")\n",
    "\n",
    "# 4. Fit tree\n",
    "tree = DecisionTreeRegressor(random_state=0)\n",
    "tree.fit(X_train, y_train)\n",
    "\n",
    "# 5. Feature importances\n",
    "importances = pd.Series(tree.feature_importances_, index=X.columns) \\\n",
    "                .sort_values(ascending=False)\n",
    "print(importances)"
   ]
  },
  {
   "cell_type": "code",
   "execution_count": null,
   "id": "7ff339ab",
   "metadata": {},
   "outputs": [],
   "source": []
  }
 ],
 "metadata": {
  "kernelspec": {
   "display_name": "base",
   "language": "python",
   "name": "python3"
  },
  "language_info": {
   "codemirror_mode": {
    "name": "ipython",
    "version": 3
   },
   "file_extension": ".py",
   "mimetype": "text/x-python",
   "name": "python",
   "nbconvert_exporter": "python",
   "pygments_lexer": "ipython3",
   "version": "3.12.7"
  }
 },
 "nbformat": 4,
 "nbformat_minor": 5
}
