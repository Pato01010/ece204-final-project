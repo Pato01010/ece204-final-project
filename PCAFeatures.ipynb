{
  "cells": [
    {
      "cell_type": "markdown",
      "metadata": {},
      "source": [
        "# PCA Analysis Notebook\n",
        "This notebook performs PCA on the `StudentPerformanceFactors.csv` dataset and identifies the top contributing features to each principal component."
      ]
    },
    {
      "cell_type": "code",
      "execution_count": 1,
      "metadata": {},
      "outputs": [],
      "source": [
        "#imports\n",
        "import pandas as pd\n",
        "import numpy as np\n",
        "from sklearn.preprocessing import StandardScaler\n",
        "from sklearn.decomposition import PCA"
      ]
    },
    {
      "cell_type": "code",
      "execution_count": 3,
      "metadata": {},
      "outputs": [],
      "source": [
        "# 1. Load the data\n",
        "df = pd.read_csv(\"original_dataset.csv\")\n",
        "# 2. Separate features and target\n",
        "X = df.drop(columns=\"Exam_Score\")\n",
        "y = df[\"Exam_Score\"]"
      ]
    },
    {
      "cell_type": "code",
      "execution_count": 4,
      "metadata": {},
      "outputs": [],
      "source": [
        "# 3. Drop categorical variables\n",
        "X = pd.get_dummies(X, drop_first=True)"
      ]
    },
    {
      "cell_type": "code",
      "execution_count": 5,
      "metadata": {},
      "outputs": [],
      "source": [
        "# 4. Standardize\n",
        "scaler = StandardScaler()\n",
        "X_scaled = scaler.fit_transform(X)"
      ]
    },
    {
      "cell_type": "code",
      "execution_count": 6,
      "metadata": {},
      "outputs": [],
      "source": [
        "# 5. Fit PCA to explain 95% variance\n",
        "pca = PCA(n_components=0.95, random_state=0)\n",
        "X_pca = pca.fit_transform(X_scaled)"
      ]
    },
    {
      "cell_type": "code",
      "execution_count": 7,
      "metadata": {},
      "outputs": [
        {
          "name": "stdout",
          "output_type": "stream",
          "text": [
            "Number of components selected: 23\n",
            "\n",
            "Explained variance ratio per component:\n",
            "  PC1: 0.067\n",
            "  PC2: 0.063\n",
            "  PC3: 0.062\n",
            "  PC4: 0.061\n",
            "  PC5: 0.057\n",
            "  PC6: 0.055\n",
            "  PC7: 0.055\n",
            "  PC8: 0.051\n",
            "  PC9: 0.039\n",
            "  PC10: 0.039\n",
            "  PC11: 0.038\n",
            "  PC12: 0.038\n",
            "  PC13: 0.037\n",
            "  PC14: 0.037\n",
            "  PC15: 0.037\n",
            "  PC16: 0.036\n",
            "  PC17: 0.036\n",
            "  PC18: 0.035\n",
            "  PC19: 0.035\n",
            "  PC20: 0.022\n",
            "  PC21: 0.019\n",
            "  PC22: 0.018\n",
            "  PC23: 0.018\n",
            "\n",
            "Cumulative variance explained: 0.955\n",
            "\n"
          ]
        }
      ],
      "source": [
        "# 6. Print PCA summary\n",
        "print(f\"Number of components selected: {pca.n_components_}\\n\")\n",
        "print(\"Explained variance ratio per component:\")\n",
        "for i, var in enumerate(pca.explained_variance_ratio_, start=1):\n",
        "    print(f\"  PC{i}: {var:.3f}\")\n",
        "cum_var = pca.explained_variance_ratio_.cumsum()[-1]\n",
        "print(f\"\\nCumulative variance explained: {cum_var:.3f}\\n\")"
      ]
    },
    {
      "cell_type": "code",
      "execution_count": 8,
      "metadata": {},
      "outputs": [
        {
          "name": "stdout",
          "output_type": "stream",
          "text": [
            "Feature loadings (first 10 features):\n",
            "                                  PC1       PC2       PC3       PC4       PC5  \\\n",
            "Hours_Studied                0.015002 -0.008046 -0.021822  0.021916 -0.023534   \n",
            "Attendance                  -0.024803  0.057647  0.000062 -0.022215  0.024413   \n",
            "Sleep_Hours                  0.004139  0.021773 -0.010846 -0.031394 -0.014157   \n",
            "Previous_Scores             -0.018759  0.018525  0.003571 -0.031488  0.047737   \n",
            "Tutoring_Sessions           -0.020172 -0.006416  0.020828 -0.005635  0.027404   \n",
            "Physical_Activity           -0.004973 -0.037964 -0.001548  0.008778  0.022944   \n",
            "Parental_Involvement_Low     0.045945  0.149656 -0.007129  0.138292  0.442994   \n",
            "Parental_Involvement_Medium -0.054078 -0.134979 -0.001368 -0.137417 -0.418217   \n",
            "Access_to_Resources_Low      0.017803  0.011887  0.051499 -0.128346 -0.470562   \n",
            "Access_to_Resources_Medium  -0.027359 -0.042768 -0.052588  0.110561  0.472222   \n",
            "\n",
            "                                  PC6       PC7       PC8       PC9      PC10  \\\n",
            "Hours_Studied                0.007008 -0.039210  0.004697 -0.327974 -0.235699   \n",
            "Attendance                   0.075588  0.019202  0.025114  0.510794 -0.255301   \n",
            "Sleep_Hours                  0.034778 -0.020415  0.026497 -0.283374  0.375999   \n",
            "Previous_Scores             -0.021679 -0.024645 -0.109665 -0.377367 -0.365500   \n",
            "Tutoring_Sessions            0.012543 -0.015360 -0.003175  0.350271  0.273718   \n",
            "Physical_Activity           -0.092038 -0.015087 -0.082952  0.110440  0.390756   \n",
            "Parental_Involvement_Low     0.175814 -0.474291  0.013258 -0.000887 -0.021132   \n",
            "Parental_Involvement_Medium -0.189044  0.494800 -0.038141 -0.009873 -0.013565   \n",
            "Access_to_Resources_Low      0.383966 -0.288301  0.138297  0.004336  0.026211   \n",
            "Access_to_Resources_Medium  -0.380049  0.298028 -0.134523  0.001734  0.010735   \n",
            "\n",
            "                             ...      PC14      PC15      PC16      PC17  \\\n",
            "Hours_Studied                ...  0.185491  0.424397  0.332483 -0.146703   \n",
            "Attendance                   ...  0.050070  0.064428  0.395352 -0.270435   \n",
            "Sleep_Hours                  ...  0.515608 -0.028237  0.198683 -0.247058   \n",
            "Previous_Scores              ... -0.193493 -0.156965  0.168869 -0.131261   \n",
            "Tutoring_Sessions            ... -0.013172  0.482387  0.408174  0.013040   \n",
            "Physical_Activity            ... -0.063373  0.192964 -0.222531  0.126892   \n",
            "Parental_Involvement_Low     ...  0.002562 -0.018490 -0.003962  0.016824   \n",
            "Parental_Involvement_Medium  ...  0.039317  0.012527  0.018130 -0.043134   \n",
            "Access_to_Resources_Low      ... -0.029367  0.040788 -0.054737 -0.017481   \n",
            "Access_to_Resources_Medium   ...  0.051130  0.010106  0.049366  0.004342   \n",
            "\n",
            "                                 PC18      PC19      PC20      PC21      PC22  \\\n",
            "Hours_Studied                0.164769 -0.388808 -0.010582 -0.016205  0.000774   \n",
            "Attendance                   0.477481  0.349535 -0.007743 -0.008565 -0.014850   \n",
            "Sleep_Hours                 -0.275251  0.370430  0.012051  0.002791 -0.005588   \n",
            "Previous_Scores             -0.188018  0.574670  0.002550 -0.035087  0.024160   \n",
            "Tutoring_Sessions           -0.439425 -0.024105  0.004346 -0.000165 -0.015387   \n",
            "Physical_Activity            0.385358  0.367411 -0.029352 -0.001353 -0.030365   \n",
            "Parental_Involvement_Low    -0.002881 -0.014317  0.024696  0.129014 -0.197011   \n",
            "Parental_Involvement_Medium  0.008940  0.017153  0.032216  0.109982 -0.216590   \n",
            "Access_to_Resources_Low      0.029504  0.037234 -0.017270 -0.102664  0.653186   \n",
            "Access_to_Resources_Medium   0.017901 -0.028759 -0.029650 -0.086248  0.668649   \n",
            "\n",
            "                                 PC23  \n",
            "Hours_Studied               -0.016563  \n",
            "Attendance                  -0.008052  \n",
            "Sleep_Hours                 -0.013856  \n",
            "Previous_Scores             -0.009320  \n",
            "Tutoring_Sessions           -0.003256  \n",
            "Physical_Activity           -0.017728  \n",
            "Parental_Involvement_Low     0.662984  \n",
            "Parental_Involvement_Medium  0.659186  \n",
            "Access_to_Resources_Low      0.243391  \n",
            "Access_to_Resources_Medium   0.205868  \n",
            "\n",
            "[10 rows x 23 columns] \n",
            "\n"
          ]
        }
      ],
      "source": [
        "# 7. Feature loadings\n",
        "loadings = pd.DataFrame(\n",
        "    pca.components_.T,\n",
        "    index=X.columns,\n",
        "    columns=[f\"PC{i}\" for i in range(1, pca.n_components_ + 1)]\n",
        ")\n",
        "print(\"Feature loadings (first 10 features):\")\n",
        "print(loadings.head(10), \"\\n\")"
      ]
    },
    {
      "cell_type": "code",
      "execution_count": 9,
      "metadata": {},
      "outputs": [
        {
          "name": "stdout",
          "output_type": "stream",
          "text": [
            "Correlation of each PC with Exam_Score:\n",
            "PC16    0.484806\n",
            "PC10   -0.311319\n",
            "PC15    0.281964\n",
            "PC18    0.261738\n",
            "PC23   -0.220699\n",
            "PC17   -0.160289\n",
            "PC19    0.150726\n",
            "PC12   -0.148232\n",
            "PC11   -0.141386\n",
            "PC9     0.137818\n",
            "PC22   -0.112298\n",
            "PC14    0.109254\n",
            "PC7     0.098727\n",
            "PC20   -0.084925\n",
            "PC4     0.084360\n",
            "PC6     0.078936\n",
            "PC1    -0.076544\n",
            "PC3    -0.034083\n",
            "PC5     0.033313\n",
            "PC2    -0.023827\n",
            "PC21   -0.016470\n",
            "PC13    0.007112\n",
            "PC8     0.002482\n",
            "dtype: float64 \n",
            "\n"
          ]
        }
      ],
      "source": [
        "# 8. Correlation with target\n",
        "corrs = np.corrcoef(X_pca.T, y)[-1, :-1]\n",
        "corr_df = pd.Series(corrs, index=loadings.columns)\n",
        "print(\"Correlation of each PC with Exam_Score:\")\n",
        "print(corr_df.sort_values(key=lambda x: x.abs(), ascending=False), \"\\n\")"
      ]
    },
    {
      "cell_type": "code",
      "execution_count": 10,
      "metadata": {},
      "outputs": [
        {
          "name": "stdout",
          "output_type": "stream",
          "text": [
            "Top 3 features contributing to each principal component:\n",
            "                                       Top1  \\\n",
            "PC1             Distance_from_Home_Moderate   \n",
            "PC2                       Family_Income_Low   \n",
            "PC3                    Motivation_Level_Low   \n",
            "PC4                 Peer_Influence_Positive   \n",
            "PC5              Access_to_Resources_Medium   \n",
            "PC6   Parental_Education_Level_Postgraduate   \n",
            "PC7             Parental_Involvement_Medium   \n",
            "PC8                  Teacher_Quality_Medium   \n",
            "PC9                              Attendance   \n",
            "PC10              Learning_Disabilities_Yes   \n",
            "PC11                     School_Type_Public   \n",
            "PC12                    Internet_Access_Yes   \n",
            "PC13                      Physical_Activity   \n",
            "PC14                            Sleep_Hours   \n",
            "PC15                      Tutoring_Sessions   \n",
            "PC16                      Tutoring_Sessions   \n",
            "PC17                    Internet_Access_Yes   \n",
            "PC18                             Attendance   \n",
            "PC19                        Previous_Scores   \n",
            "PC20                    Teacher_Quality_Low   \n",
            "PC21   Parental_Education_Level_High School   \n",
            "PC22             Access_to_Resources_Medium   \n",
            "PC23               Parental_Involvement_Low   \n",
            "\n",
            "                                       Top2  \\\n",
            "PC1                 Distance_from_Home_Near   \n",
            "PC2                    Family_Income_Medium   \n",
            "PC3                 Motivation_Level_Medium   \n",
            "PC4                  Peer_Influence_Neutral   \n",
            "PC5                 Access_to_Resources_Low   \n",
            "PC6    Parental_Education_Level_High School   \n",
            "PC7                Parental_Involvement_Low   \n",
            "PC8                     Teacher_Quality_Low   \n",
            "PC9                     Internet_Access_Yes   \n",
            "PC10                      Physical_Activity   \n",
            "PC11                          Hours_Studied   \n",
            "PC12                            Gender_Male   \n",
            "PC13                            Gender_Male   \n",
            "PC14         Extracurricular_Activities_Yes   \n",
            "PC15         Extracurricular_Activities_Yes   \n",
            "PC16                             Attendance   \n",
            "PC17                            Gender_Male   \n",
            "PC18                      Tutoring_Sessions   \n",
            "PC19                          Hours_Studied   \n",
            "PC20                 Teacher_Quality_Medium   \n",
            "PC21  Parental_Education_Level_Postgraduate   \n",
            "PC22                Access_to_Resources_Low   \n",
            "PC23            Parental_Involvement_Medium   \n",
            "\n",
            "                                       Top3  \n",
            "PC1                  Peer_Influence_Neutral  \n",
            "PC2                 Motivation_Level_Medium  \n",
            "PC3                    Family_Income_Medium  \n",
            "PC4                    Motivation_Level_Low  \n",
            "PC5                Parental_Involvement_Low  \n",
            "PC6                 Access_to_Resources_Low  \n",
            "PC7   Parental_Education_Level_Postgraduate  \n",
            "PC8                 Access_to_Resources_Low  \n",
            "PC9                         Previous_Scores  \n",
            "PC10                            Sleep_Hours  \n",
            "PC11                      Tutoring_Sessions  \n",
            "PC12                        Previous_Scores  \n",
            "PC13         Extracurricular_Activities_Yes  \n",
            "PC14              Learning_Disabilities_Yes  \n",
            "PC15                          Hours_Studied  \n",
            "PC16                     School_Type_Public  \n",
            "PC17              Learning_Disabilities_Yes  \n",
            "PC18                      Physical_Activity  \n",
            "PC19                            Sleep_Hours  \n",
            "PC20            Parental_Involvement_Medium  \n",
            "PC21               Parental_Involvement_Low  \n",
            "PC22            Parental_Involvement_Medium  \n",
            "PC23                Access_to_Resources_Low  \n"
          ]
        }
      ],
      "source": [
        "# 9. Top 3 features per PC\n",
        "top3 = {}\n",
        "for pc in loadings.columns:\n",
        "    top_feats = (\n",
        "        loadings[pc]\n",
        "        .abs()\n",
        "        .sort_values(ascending=False)\n",
        "        .head(3)\n",
        "        .index\n",
        "        .tolist()\n",
        "    )\n",
        "    top3[pc] = top_feats\n",
        "top3_df = pd.DataFrame.from_dict(\n",
        "    top3, orient=\"index\", columns=[\"Top1\", \"Top2\", \"Top3\"]\n",
        ")\n",
        "print(\"Top 3 features contributing to each principal component:\")\n",
        "print(top3_df)"
      ]
    }
  ],
  "metadata": {
    "kernelspec": {
      "display_name": "base",
      "language": "python",
      "name": "python3"
    },
    "language_info": {
      "codemirror_mode": {
        "name": "ipython",
        "version": 3
      },
      "file_extension": ".py",
      "mimetype": "text/x-python",
      "name": "python",
      "nbconvert_exporter": "python",
      "pygments_lexer": "ipython3",
      "version": "3.12.7"
    }
  },
  "nbformat": 4,
  "nbformat_minor": 5
}
