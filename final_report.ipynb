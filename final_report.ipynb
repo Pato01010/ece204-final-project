{
 "cells": [
  {
   "cell_type": "markdown",
   "id": "0293956b",
   "metadata": {},
   "source": [
    "# Introduction\n",
    "\n",
    "**Project Overview:** This project aims to identify which study habits and lifestyle features most strongly influence student exam scores using a Kaggle dataset. The problem emerged from educators' and students' need to understand the drivers of academic success and to provide actionable guidance for improving learning strategies.\n",
    "\n",
    "**Problem Description & History:** As educators observed large variability in student performance, questions arose about the relative impact of factors like study time, sleep hours, attendance, and tutoring. Understanding these relationships is important to design evidence-based interventions that can boost student outcomes.\n",
    "\n",
    "## Data Acquisition and Cleaning\n",
    "\n",
    "- **Data Source:** The dataset `StudentPerformanceFactors.csv` was obtained from Kaggle, containing fields such as Study Time, Sleep Hours, Attendance, Previous Scores, Tutoring Sessions, and Motivation Level.\n",
    "- **Cleaning Steps Summary:**\n",
    "  - Removed records with missing exam scores.\n",
    "  - Filtered exam scores to make sure none exceeded 100"
   ]
  },
  {
   "cell_type": "markdown",
   "id": "f0d3271c",
   "metadata": {},
   "source": [
    "# Report Outline & Assumptions\n",
    "\n",
    "**Outline of the Report:**\n",
    "1. **Introduction** – Overview, problem statement, data source, and cleaning summary.\n",
    "2. **Exploratory Data Analysis** – Descriptive statistics, distributions, and initial correlations.\n",
    "3. **Feature Correlation Analysis** – Correlation matrix, feature selection, and statistical significance tests.\n",
    "4. **Modeling & Validation** – Building regression models to predict exam scores and evaluating performance.\n",
    "5. **Discussion & Insights** – Interpretation of results, key findings, and practical recommendations.\n",
    "6. **Conclusion** – Summary of findings, limitations, and suggestions for future work.\n",
    "\n",
    "**Key Assumptions:**\n",
    "- Relationships between features and exam scores are assumed to be linear for initial correlation analysis.\n",
    "- Imputation and outlier removal do not introduce significant bias.\n",
    "- The dataset is representative of the wider student population.\n",
    "\n",
    "# Approach Summary\n",
    "\n",
    "Our approach consists of:\n",
    "1. Cleaning and preprocessing the data as described above.\n",
    "2. Conducting exploratory analysis to visualize feature distributions.\n",
    "3. Computing correlation coefficients to identify the most impactful features.\n",
    "4. Validating findings with regression models and cross-validation.\n",
    "5. Deriving actionable insights to improve student learning strategies."
   ]
  }
 ],
 "metadata": {
  "language_info": {
   "name": "python"
  }
 },
 "nbformat": 4,
 "nbformat_minor": 5
}
