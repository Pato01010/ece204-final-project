{
 "cells": [
  {
   "cell_type": "code",
   "execution_count": 1,
   "metadata": {},
   "outputs": [],
   "source": [
    "import pandas as pd\n",
    "import matplotlib.pyplot as plt"
   ]
  },
  {
   "cell_type": "code",
   "execution_count": 4,
   "metadata": {},
   "outputs": [
    {
     "name": "stdout",
     "output_type": "stream",
     "text": [
      "<class 'pandas.core.frame.DataFrame'>\n",
      "RangeIndex: 6607 entries, 0 to 6606\n",
      "Data columns (total 20 columns):\n",
      " #   Column                      Non-Null Count  Dtype \n",
      "---  ------                      --------------  ----- \n",
      " 0   Hours_Studied               6607 non-null   int64 \n",
      " 1   Attendance                  6607 non-null   int64 \n",
      " 2   Parental_Involvement        6607 non-null   object\n",
      " 3   Access_to_Resources         6607 non-null   object\n",
      " 4   Extracurricular_Activities  6607 non-null   object\n",
      " 5   Sleep_Hours                 6607 non-null   int64 \n",
      " 6   Previous_Scores             6607 non-null   int64 \n",
      " 7   Motivation_Level            6607 non-null   object\n",
      " 8   Internet_Access             6607 non-null   object\n",
      " 9   Tutoring_Sessions           6607 non-null   int64 \n",
      " 10  Family_Income               6607 non-null   object\n",
      " 11  Teacher_Quality             6529 non-null   object\n",
      " 12  School_Type                 6607 non-null   object\n",
      " 13  Peer_Influence              6607 non-null   object\n",
      " 14  Physical_Activity           6607 non-null   int64 \n",
      " 15  Learning_Disabilities       6607 non-null   object\n",
      " 16  Parental_Education_Level    6517 non-null   object\n",
      " 17  Distance_from_Home          6540 non-null   object\n",
      " 18  Gender                      6607 non-null   object\n",
      " 19  Exam_Score                  6607 non-null   int64 \n",
      "dtypes: int64(7), object(13)\n",
      "memory usage: 1.0+ MB\n"
     ]
    },
    {
     "data": {
      "text/plain": [
       "(None,\n",
       "    Hours_Studied  Attendance Parental_Involvement Access_to_Resources  \\\n",
       " 0             23          84                  Low                High   \n",
       " 1             19          64                  Low              Medium   \n",
       " 2             24          98               Medium              Medium   \n",
       " 3             29          89                  Low              Medium   \n",
       " 4             19          92               Medium              Medium   \n",
       " \n",
       "   Extracurricular_Activities  Sleep_Hours  Previous_Scores Motivation_Level  \\\n",
       " 0                         No            7               73              Low   \n",
       " 1                         No            8               59              Low   \n",
       " 2                        Yes            7               91           Medium   \n",
       " 3                        Yes            8               98           Medium   \n",
       " 4                        Yes            6               65           Medium   \n",
       " \n",
       "   Internet_Access  Tutoring_Sessions Family_Income Teacher_Quality  \\\n",
       " 0             Yes                  0           Low          Medium   \n",
       " 1             Yes                  2        Medium          Medium   \n",
       " 2             Yes                  2        Medium          Medium   \n",
       " 3             Yes                  1        Medium          Medium   \n",
       " 4             Yes                  3        Medium            High   \n",
       " \n",
       "   School_Type Peer_Influence  Physical_Activity Learning_Disabilities  \\\n",
       " 0      Public       Positive                  3                    No   \n",
       " 1      Public       Negative                  4                    No   \n",
       " 2      Public        Neutral                  4                    No   \n",
       " 3      Public       Negative                  4                    No   \n",
       " 4      Public        Neutral                  4                    No   \n",
       " \n",
       "   Parental_Education_Level Distance_from_Home  Gender  Exam_Score  \n",
       " 0              High School               Near    Male          67  \n",
       " 1                  College           Moderate  Female          61  \n",
       " 2             Postgraduate               Near    Male          74  \n",
       " 3              High School           Moderate    Male          71  \n",
       " 4                  College               Near  Female          70  ,\n",
       "         Hours_Studied   Attendance Parental_Involvement Access_to_Resources  \\\n",
       " count     6607.000000  6607.000000                 6607                6607   \n",
       " unique            NaN          NaN                    3                   3   \n",
       " top               NaN          NaN               Medium              Medium   \n",
       " freq              NaN          NaN                 3362                3319   \n",
       " mean        19.975329    79.977448                  NaN                 NaN   \n",
       " std          5.990594    11.547475                  NaN                 NaN   \n",
       " min          1.000000    60.000000                  NaN                 NaN   \n",
       " 25%         16.000000    70.000000                  NaN                 NaN   \n",
       " 50%         20.000000    80.000000                  NaN                 NaN   \n",
       " 75%         24.000000    90.000000                  NaN                 NaN   \n",
       " max         44.000000   100.000000                  NaN                 NaN   \n",
       " \n",
       "        Extracurricular_Activities  Sleep_Hours  Previous_Scores  \\\n",
       " count                        6607   6607.00000      6607.000000   \n",
       " unique                          2          NaN              NaN   \n",
       " top                           Yes          NaN              NaN   \n",
       " freq                         3938          NaN              NaN   \n",
       " mean                          NaN      7.02906        75.070531   \n",
       " std                           NaN      1.46812        14.399784   \n",
       " min                           NaN      4.00000        50.000000   \n",
       " 25%                           NaN      6.00000        63.000000   \n",
       " 50%                           NaN      7.00000        75.000000   \n",
       " 75%                           NaN      8.00000        88.000000   \n",
       " max                           NaN     10.00000       100.000000   \n",
       " \n",
       "        Motivation_Level Internet_Access  Tutoring_Sessions Family_Income  \\\n",
       " count              6607            6607        6607.000000          6607   \n",
       " unique                3               2                NaN             3   \n",
       " top              Medium             Yes                NaN           Low   \n",
       " freq               3351            6108                NaN          2672   \n",
       " mean                NaN             NaN           1.493719           NaN   \n",
       " std                 NaN             NaN           1.230570           NaN   \n",
       " min                 NaN             NaN           0.000000           NaN   \n",
       " 25%                 NaN             NaN           1.000000           NaN   \n",
       " 50%                 NaN             NaN           1.000000           NaN   \n",
       " 75%                 NaN             NaN           2.000000           NaN   \n",
       " max                 NaN             NaN           8.000000           NaN   \n",
       " \n",
       "        Teacher_Quality School_Type Peer_Influence  Physical_Activity  \\\n",
       " count             6529        6607           6607        6607.000000   \n",
       " unique               3           2              3                NaN   \n",
       " top             Medium      Public       Positive                NaN   \n",
       " freq              3925        4598           2638                NaN   \n",
       " mean               NaN         NaN            NaN           2.967610   \n",
       " std                NaN         NaN            NaN           1.031231   \n",
       " min                NaN         NaN            NaN           0.000000   \n",
       " 25%                NaN         NaN            NaN           2.000000   \n",
       " 50%                NaN         NaN            NaN           3.000000   \n",
       " 75%                NaN         NaN            NaN           4.000000   \n",
       " max                NaN         NaN            NaN           6.000000   \n",
       " \n",
       "        Learning_Disabilities Parental_Education_Level Distance_from_Home  \\\n",
       " count                   6607                     6517               6540   \n",
       " unique                     2                        3                  3   \n",
       " top                       No              High School               Near   \n",
       " freq                    5912                     3223               3884   \n",
       " mean                     NaN                      NaN                NaN   \n",
       " std                      NaN                      NaN                NaN   \n",
       " min                      NaN                      NaN                NaN   \n",
       " 25%                      NaN                      NaN                NaN   \n",
       " 50%                      NaN                      NaN                NaN   \n",
       " 75%                      NaN                      NaN                NaN   \n",
       " max                      NaN                      NaN                NaN   \n",
       " \n",
       "        Gender   Exam_Score  \n",
       " count    6607  6607.000000  \n",
       " unique      2          NaN  \n",
       " top      Male          NaN  \n",
       " freq     3814          NaN  \n",
       " mean      NaN    67.235659  \n",
       " std       NaN     3.890456  \n",
       " min       NaN    55.000000  \n",
       " 25%       NaN    65.000000  \n",
       " 50%       NaN    67.000000  \n",
       " 75%       NaN    69.000000  \n",
       " max       NaN   101.000000  )"
      ]
     },
     "execution_count": 4,
     "metadata": {},
     "output_type": "execute_result"
    }
   ],
   "source": [
    "df = pd.read_csv(\"original_dataset.csv\")\n",
    "\n",
    "df_info = df.info()\n",
    "df_head = df.head()\n",
    "df_description = df.describe(include=\"all\")\n",
    "\n",
    "df_info, df_head, df_description"
   ]
  },
  {
   "cell_type": "markdown",
   "metadata": {},
   "source": [
    "## Numerical Values\n",
    "* Hours_Studied\n",
    "* Attendance\n",
    "* Sleep_Hours\n",
    "* Previous_Scores\n",
    "* Tutoring_Sessions\n",
    "* Physical_Activity\n",
    "* Exam_Score"
   ]
  },
  {
   "cell_type": "markdown",
   "metadata": {},
   "source": [
    "## Categorical Values\n",
    "* Parental_Involvement\n",
    "* Access_to_Resources\n",
    "* Extracurricular_Activities\n",
    "* Motivation_Level\n",
    "* Internet_Access\n",
    "* Family_Income\n",
    "* Teacher_Quality\n",
    "* School_Type\n",
    "* Peer_Influence\n",
    "* Learning_Disabilities\n",
    "* Parental_Education_Level\n",
    "* Distance_from_Home\n",
    "* Gender"
   ]
  },
  {
   "cell_type": "code",
   "execution_count": 5,
   "metadata": {},
   "outputs": [
    {
     "data": {
      "image/png": "[encoded data removed]",
      "text/plain": [
       "<Figure size 800x600 with 1 Axes>"
      ]
     },
     "metadata": {},
     "output_type": "display_data"
    }
   ],
   "source": [
    "# Plot 1: Histogram of Exam Score\n",
    "plt.figure(figsize=(8, 6))\n",
    "plt.hist(df['Exam_Score'], bins=30, edgecolor='black')\n",
    "plt.title('Distribution of Exam Scores')\n",
    "plt.xlabel('Exam Score')\n",
    "plt.ylabel('Frequency')\n",
    "plt.show()"
   ]
  },
  {
   "cell_type": "markdown",
   "metadata": {},
   "source": [
    "## Plot 1 Insights\n",
    "* Fairly normal with a slight right skew\n",
    "* Most of the scores are between 60-75\n",
    "* There are a few values slightly above 100 which may need to be verified"
   ]
  },
  {
   "cell_type": "code",
   "execution_count": 6,
   "metadata": {},
   "outputs": [
    {
     "name": "stderr",
     "output_type": "stream",
     "text": [
      "/var/folders/t0/hzg53ff9319g3z7q6s1nj6fc0000gn/T/ipykernel_25264/1574072085.py:6: MatplotlibDeprecationWarning: The 'labels' parameter of boxplot() has been renamed 'tick_labels' since Matplotlib 3.9; support for the old name will be dropped in 3.11.\n",
      "  plt.boxplot(data_to_plot, labels=categories)\n"
     ]
    },
    {
     "data": {
      "image/png": "[encoded data removed]",
      "text/plain": [
       "<Figure size 800x600 with 1 Axes>"
      ]
     },
     "metadata": {},
     "output_type": "display_data"
    }
   ],
   "source": [
    "# Plot 2: Box Plot of Exam Score by Parental Involvement\n",
    "plt.figure(figsize=(8,6))\n",
    "categories = df['Parental_Involvement'].dropna().unique()\n",
    "data_to_plot = [df[df['Parental_Involvement'] == cat]['Exam_Score'] for cat in categories]\n",
    "\n",
    "plt.boxplot(data_to_plot, labels=categories)\n",
    "plt.title('Exam Score by Parental Involvement')\n",
    "plt.xlabel('Parental Involvement')\n",
    "plt.ylabel('Exam Score')\n",
    "plt.show()"
   ]
  },
  {
   "cell_type": "markdown",
   "metadata": {},
   "source": [
    "## Plot 2 Insights\n",
    "* Students with \"High\" parental involvement tend to score better\n",
    "* \"Low\" involvement shows greater score variability and lower medians"
   ]
  },
  {
   "cell_type": "markdown",
   "metadata": {},
   "source": [
    "## Cleaning Dataset"
   ]
  },
  {
   "cell_type": "code",
   "execution_count": 7,
   "metadata": {},
   "outputs": [
    {
     "name": "stderr",
     "output_type": "stream",
     "text": [
      "/var/folders/t0/hzg53ff9319g3z7q6s1nj6fc0000gn/T/ipykernel_25264/271599564.py:2: FutureWarning: A value is trying to be set on a copy of a DataFrame or Series through chained assignment using an inplace method.\n",
      "The behavior will change in pandas 3.0. This inplace method will never work because the intermediate object on which we are setting values always behaves as a copy.\n",
      "\n",
      "For example, when doing 'df[col].method(value, inplace=True)', try using 'df.method({col: value}, inplace=True)' or df[col] = df[col].method(value) instead, to perform the operation inplace on the original object.\n",
      "\n",
      "\n",
      "  df['Teacher_Quality'].fillna(df['Teacher_Quality'].mode()[0], inplace=True)\n",
      "/var/folders/t0/hzg53ff9319g3z7q6s1nj6fc0000gn/T/ipykernel_25264/271599564.py:3: FutureWarning: A value is trying to be set on a copy of a DataFrame or Series through chained assignment using an inplace method.\n",
      "The behavior will change in pandas 3.0. This inplace method will never work because the intermediate object on which we are setting values always behaves as a copy.\n",
      "\n",
      "For example, when doing 'df[col].method(value, inplace=True)', try using 'df.method({col: value}, inplace=True)' or df[col] = df[col].method(value) instead, to perform the operation inplace on the original object.\n",
      "\n",
      "\n",
      "  df['Parental_Education_Level'].fillna(df['Parental_Education_Level'].mode()[0], inplace=True)\n",
      "/var/folders/t0/hzg53ff9319g3z7q6s1nj6fc0000gn/T/ipykernel_25264/271599564.py:4: FutureWarning: A value is trying to be set on a copy of a DataFrame or Series through chained assignment using an inplace method.\n",
      "The behavior will change in pandas 3.0. This inplace method will never work because the intermediate object on which we are setting values always behaves as a copy.\n",
      "\n",
      "For example, when doing 'df[col].method(value, inplace=True)', try using 'df.method({col: value}, inplace=True)' or df[col] = df[col].method(value) instead, to perform the operation inplace on the original object.\n",
      "\n",
      "\n",
      "  df['Distance_from_Home'].fillna(df['Distance_from_Home'].mode()[0], inplace=True)\n"
     ]
    }
   ],
   "source": [
    "# Represent any missing cateogrical values with the mode\n",
    "df['Teacher_Quality'].fillna(df['Teacher_Quality'].mode()[0], inplace=True)\n",
    "df['Parental_Education_Level'].fillna(df['Parental_Education_Level'].mode()[0], inplace=True)\n",
    "df['Distance_from_Home'].fillna(df['Distance_from_Home'].mode()[0], inplace=True)\n",
    "\n",
    "# Cap Exam_Score at 100 in case any value exceeds it\n",
    "df['Exam_Score'] = df['Exam_Score'].apply(lambda x: min(x, 100))\n",
    "\n",
    "# Save Cleaned Dataset\n",
    "file_path = \"cleaned_dataset_temp.csv\"\n",
    "df.to_csv(file_path, index=False)"
   ]
  },
  {
   "cell_type": "code",
   "execution_count": null,
   "metadata": {},
   "outputs": [],
   "source": []
  }
 ],
 "metadata": {
  "kernelspec": {
   "display_name": "Python 3",
   "language": "python",
   "name": "python3"
  },
  "language_info": {
   "codemirror_mode": {
    "name": "ipython",
    "version": 3
   },
   "file_extension": ".py",
   "mimetype": "text/x-python",
   "name": "python",
   "nbconvert_exporter": "python",
   "pygments_lexer": "ipython3",
   "version": "3.13.1"
  }
 },
 "nbformat": 4,
 "nbformat_minor": 2
}
